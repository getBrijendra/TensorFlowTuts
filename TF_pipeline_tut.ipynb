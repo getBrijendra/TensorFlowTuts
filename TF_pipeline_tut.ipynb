{
 "cells": [
  {
   "cell_type": "code",
   "execution_count": 1,
   "id": "f34a57fd",
   "metadata": {},
   "outputs": [
    {
     "data": {
      "text/plain": [
       "'2.6.0'"
      ]
     },
     "execution_count": 1,
     "metadata": {},
     "output_type": "execute_result"
    }
   ],
   "source": [
    "import tensorflow as tf\n",
    "import time\n",
    "\n",
    "\n",
    "tf.__version__"
   ]
  },
  {
   "cell_type": "code",
   "execution_count": 2,
   "id": "06dadc03",
   "metadata": {},
   "outputs": [
    {
     "data": {
      "text/plain": [
       "<TensorSliceDataset shapes: (), types: tf.int32>"
      ]
     },
     "execution_count": 2,
     "metadata": {},
     "output_type": "execute_result"
    }
   ],
   "source": [
    "sales_num = [8, 3, -1, 0, 8, 2, -32, 1]\n",
    "dataset = tf.data.Dataset.from_tensor_slices(sales_num)\n",
    "dataset"
   ]
  },
  {
   "cell_type": "code",
   "execution_count": 3,
   "id": "b0bd91f3",
   "metadata": {},
   "outputs": [
    {
     "name": "stdout",
     "output_type": "stream",
     "text": [
      "8\n",
      "3\n",
      "-1\n",
      "0\n",
      "8\n",
      "2\n",
      "-32\n",
      "1\n"
     ]
    }
   ],
   "source": [
    "for sales in dataset:\n",
    "    print(sales.numpy())"
   ]
  },
  {
   "cell_type": "code",
   "execution_count": 4,
   "id": "34f2d2fe",
   "metadata": {},
   "outputs": [
    {
     "name": "stdout",
     "output_type": "stream",
     "text": [
      "8\n",
      "3\n",
      "-1\n",
      "0\n",
      "8\n",
      "2\n",
      "-32\n",
      "1\n"
     ]
    }
   ],
   "source": [
    "for sales in dataset.as_numpy_iterator():\n",
    "    print(sales)"
   ]
  },
  {
   "cell_type": "code",
   "execution_count": 5,
   "id": "819284bd",
   "metadata": {},
   "outputs": [
    {
     "name": "stdout",
     "output_type": "stream",
     "text": [
      "8\n",
      "3\n",
      "8\n",
      "2\n",
      "1\n"
     ]
    }
   ],
   "source": [
    "tf_data = dataset.filter(lambda x: x > 0)\n",
    "for sales in tf_data.as_numpy_iterator():\n",
    "    print(sales)"
   ]
  },
  {
   "cell_type": "code",
   "execution_count": 6,
   "id": "bd6306f5",
   "metadata": {},
   "outputs": [
    {
     "data": {
      "text/plain": [
       "[592, 222, 592, 148, 74]"
      ]
     },
     "execution_count": 6,
     "metadata": {},
     "output_type": "execute_result"
    }
   ],
   "source": [
    "tf_data = tf_data.map(lambda x: x * 74)\n",
    "list(tf_data.as_numpy_iterator())"
   ]
  },
  {
   "cell_type": "code",
   "execution_count": 7,
   "id": "f318f5de",
   "metadata": {},
   "outputs": [
    {
     "data": {
      "text/plain": [
       "[222, 592, 148, 74, 592]"
      ]
     },
     "execution_count": 7,
     "metadata": {},
     "output_type": "execute_result"
    }
   ],
   "source": [
    "tf_data = tf_data.shuffle(2)\n",
    "list(tf_data.as_numpy_iterator())"
   ]
  },
  {
   "cell_type": "code",
   "execution_count": 8,
   "id": "c5a22d94",
   "metadata": {},
   "outputs": [
    {
     "data": {
      "text/plain": [
       "[<tf.Tensor: shape=(2,), dtype=int32, numpy=array([592, 592])>,\n",
       " <tf.Tensor: shape=(2,), dtype=int32, numpy=array([148,  74])>,\n",
       " <tf.Tensor: shape=(1,), dtype=int32, numpy=array([222])>]"
      ]
     },
     "execution_count": 8,
     "metadata": {},
     "output_type": "execute_result"
    }
   ],
   "source": [
    "tf_data = tf_data.batch(2)\n",
    "list(tf_data)"
   ]
  },
  {
   "cell_type": "code",
   "execution_count": 9,
   "id": "881a20d0",
   "metadata": {},
   "outputs": [],
   "source": [
    "images_ds = tf.data.Dataset.list_files('images/*/*', shuffle=False)"
   ]
  },
  {
   "cell_type": "code",
   "execution_count": 10,
   "id": "5d0709a5",
   "metadata": {},
   "outputs": [
    {
     "data": {
      "text/plain": [
       "16"
      ]
     },
     "execution_count": 10,
     "metadata": {},
     "output_type": "execute_result"
    }
   ],
   "source": [
    "images_count = len(images_ds)\n",
    "images_count"
   ]
  },
  {
   "cell_type": "code",
   "execution_count": 11,
   "id": "67066721",
   "metadata": {},
   "outputs": [
    {
     "data": {
      "text/plain": [
       "tensorflow.python.data.ops.dataset_ops.TensorSliceDataset"
      ]
     },
     "execution_count": 11,
     "metadata": {},
     "output_type": "execute_result"
    }
   ],
   "source": [
    "type(images_ds)"
   ]
  },
  {
   "cell_type": "code",
   "execution_count": 12,
   "id": "5a0be087",
   "metadata": {},
   "outputs": [
    {
     "name": "stdout",
     "output_type": "stream",
     "text": [
      "b'images\\\\cats\\\\10 Fascinating Facts About Cats _ Purina.jpg'\n",
      "b'images\\\\cats\\\\20 Cat Facts That_ll Blow Your Kitty....jpg'\n",
      "b'images\\\\cats\\\\8 Signs of Separation Anxiety in Cats....jpg'\n"
     ]
    }
   ],
   "source": [
    "for img in images_ds.take(3):\n",
    "    print(img.numpy())"
   ]
  },
  {
   "cell_type": "code",
   "execution_count": 13,
   "id": "5c2abb12",
   "metadata": {},
   "outputs": [],
   "source": [
    "class_nums = [\"cats\", \"dogs\"]"
   ]
  },
  {
   "cell_type": "code",
   "execution_count": 20,
   "id": "be2e51b0",
   "metadata": {},
   "outputs": [],
   "source": [
    "images_ds = images_ds.shuffle(20)\n",
    "train_size = int(images_count * 0.8)\n",
    "train_ds = images_ds.take(train_size)\n",
    "test_ds = images_ds.skip(train_size)"
   ]
  },
  {
   "cell_type": "code",
   "execution_count": 21,
   "id": "319072ee",
   "metadata": {},
   "outputs": [
    {
     "data": {
      "text/plain": [
       "4"
      ]
     },
     "execution_count": 21,
     "metadata": {},
     "output_type": "execute_result"
    }
   ],
   "source": [
    "len(test_ds)"
   ]
  },
  {
   "cell_type": "code",
   "execution_count": 22,
   "id": "bbe7b1df",
   "metadata": {},
   "outputs": [
    {
     "data": {
      "text/plain": [
       "12"
      ]
     },
     "execution_count": 22,
     "metadata": {},
     "output_type": "execute_result"
    }
   ],
   "source": [
    "len(train_ds)"
   ]
  },
  {
   "cell_type": "code",
   "execution_count": 23,
   "id": "1ed41aee",
   "metadata": {},
   "outputs": [],
   "source": [
    "def get_label(file_path):\n",
    "    import os\n",
    "    parts = tf.strings.split(file_path, os.path.sep)\n",
    "    return parts[-2]"
   ]
  },
  {
   "cell_type": "code",
   "execution_count": 24,
   "id": "54424932",
   "metadata": {},
   "outputs": [
    {
     "data": {
      "text/plain": [
       "<tf.Tensor: shape=(), dtype=string, numpy=b'cats'>"
      ]
     },
     "execution_count": 24,
     "metadata": {},
     "output_type": "execute_result"
    }
   ],
   "source": [
    "get_label(\"images\\\\cats\\\\10 Fascinating Facts About Cats _ Purina.jpg\")"
   ]
  },
  {
   "cell_type": "code",
   "execution_count": 29,
   "id": "bc73bdcd",
   "metadata": {},
   "outputs": [],
   "source": [
    "def process_images(file_path):\n",
    "    label = get_label(file_path)\n",
    "    img = tf.io.read_file(file_path)\n",
    "    img = tf.image.decode_jpeg(img)\n",
    "    img = tf.image.resize(img, [400, 400])\n",
    "    return img, label"
   ]
  },
  {
   "cell_type": "code",
   "execution_count": 30,
   "id": "f56e85cc",
   "metadata": {},
   "outputs": [],
   "source": [
    "img, label = process_images(\"images\\\\cats\\\\10 Fascinating Facts About Cats _ Purina.jpg\")"
   ]
  },
  {
   "cell_type": "raw",
   "id": "f152bfb3",
   "metadata": {},
   "source": [
    "img.numpy()[:2]"
   ]
  },
  {
   "cell_type": "code",
   "execution_count": 31,
   "id": "0f904134",
   "metadata": {},
   "outputs": [],
   "source": [
    "train_ds = train_ds.map(process_images)\n",
    "test_ds = test_ds.map(process_images)"
   ]
  },
  {
   "cell_type": "code",
   "execution_count": 32,
   "id": "d88dbbbc",
   "metadata": {},
   "outputs": [
    {
     "name": "stdout",
     "output_type": "stream",
     "text": [
      "**** tf.Tensor(\n",
      "[[[179.       206.       223.      ]\n",
      "  [179.       206.       223.      ]\n",
      "  [179.       206.       223.      ]\n",
      "  ...\n",
      "  [162.47116  172.4721   171.72026 ]\n",
      "  [178.27979  184.49565  184.43982 ]\n",
      "  [180.00961  186.0471   184.06464 ]]\n",
      "\n",
      " [[179.0375   206.0375   223.0375  ]\n",
      "  [179.0375   206.0375   223.0375  ]\n",
      "  [179.0375   206.0375   223.0375  ]\n",
      "  ...\n",
      "  [162.2583   172.4027   173.44301 ]\n",
      "  [178.3906   187.4748   186.63477 ]\n",
      "  [182.14133  191.17883  188.28386 ]]\n",
      "\n",
      " [[180.       207.       224.      ]\n",
      "  [180.       207.       224.      ]\n",
      "  [180.       207.       224.      ]\n",
      "  ...\n",
      "  [163.6921   175.74677  175.94992 ]\n",
      "  [180.18634  190.52074  191.41885 ]\n",
      "  [186.04712  196.29712  195.38776 ]]\n",
      "\n",
      " ...\n",
      "\n",
      " [[119.985    101.93656   92.12406 ]\n",
      "  [119.18     102.055     92.32687 ]\n",
      "  [123.07968  106.10468   98.2375  ]\n",
      "  ...\n",
      "  [185.29999  190.29999  210.29999 ]\n",
      "  [187.22528  192.22528  212.22528 ]\n",
      "  [189.22092  194.22092  214.22092 ]]\n",
      "\n",
      " [[124.82634  108.73746   95.89329 ]\n",
      "  [125.91746  108.91746   99.007454]\n",
      "  [129.74026  112.890274 104.96527 ]\n",
      "  ...\n",
      "  [177.89874  182.89874  202.89874 ]\n",
      "  [184.76836  189.76836  209.76836 ]\n",
      "  [189.88911  194.88911  214.88911 ]]\n",
      "\n",
      " [[127.99227  111.99209   98.99265 ]\n",
      "  [130.04108  114.11744  101.33385 ]\n",
      "  [132.04904  118.08744  109.17495 ]\n",
      "  ...\n",
      "  [176.63745  181.63745  201.63745 ]\n",
      "  [182.75438  187.75438  207.75438 ]\n",
      "  [187.94995  192.94995  212.94995 ]]], shape=(400, 400, 3), dtype=float32)\n",
      "**** tf.Tensor(b'dogs', shape=(), dtype=string)\n"
     ]
    }
   ],
   "source": [
    "for image, label in train_ds.take(1):\n",
    "    print(\"****\",image)\n",
    "    print(\"****\",label)"
   ]
  },
  {
   "cell_type": "code",
   "execution_count": 33,
   "id": "698ab3b5",
   "metadata": {},
   "outputs": [],
   "source": [
    "def scale(image, label):\n",
    "    return image/255, label"
   ]
  },
  {
   "cell_type": "code",
   "execution_count": 36,
   "id": "202a4291",
   "metadata": {},
   "outputs": [],
   "source": [
    "train_ds = train_ds.map(scale)"
   ]
  },
  {
   "cell_type": "code",
   "execution_count": 37,
   "id": "d4810223",
   "metadata": {},
   "outputs": [
    {
     "name": "stdout",
     "output_type": "stream",
     "text": [
      "****Image:  [0.00118868 0.00108103 0.00098875]\n",
      "****Label:  b'cats'\n",
      "****Image:  [0.00077201 0.00066436 0.00057209]\n",
      "****Label:  b'cats'\n",
      "****Image:  [0.00066128 0.00044598 0.00024606]\n",
      "****Label:  b'cats'\n",
      "****Image:  [0.00390619 0.00390619 0.00390619]\n",
      "****Label:  b'dogs'\n",
      "****Image:  [0.00172241 0.00138408 0.00120723]\n",
      "****Label:  b'cats'\n"
     ]
    }
   ],
   "source": [
    "for image, label in train_ds.take(5):\n",
    "    print(\"****Image: \",image.numpy()[0][0])\n",
    "    print(\"****Label: \",label.numpy())"
   ]
  },
  {
   "cell_type": "code",
   "execution_count": 41,
   "id": "ed9773de",
   "metadata": {},
   "outputs": [],
   "source": [
    "txt_ds = tf.data.Dataset.list_files(\"Reviews/*/*\", shuffle=False)"
   ]
  },
  {
   "cell_type": "code",
   "execution_count": 44,
   "id": "f9351c6e",
   "metadata": {},
   "outputs": [
    {
     "data": {
      "text/plain": [
       "6"
      ]
     },
     "execution_count": 44,
     "metadata": {},
     "output_type": "execute_result"
    }
   ],
   "source": [
    "rev_len = len(txt_ds)\n",
    "rev_len"
   ]
  },
  {
   "cell_type": "code",
   "execution_count": 43,
   "id": "024907ed",
   "metadata": {},
   "outputs": [
    {
     "data": {
      "text/plain": [
       "tensorflow.python.data.ops.dataset_ops.TensorSliceDataset"
      ]
     },
     "execution_count": 43,
     "metadata": {},
     "output_type": "execute_result"
    }
   ],
   "source": [
    "type(txt_ds)"
   ]
  },
  {
   "cell_type": "code",
   "execution_count": 45,
   "id": "370eaf45",
   "metadata": {},
   "outputs": [
    {
     "data": {
      "text/plain": [
       "[b'Reviews\\\\negative\\\\neg_1.txt',\n",
       " b'Reviews\\\\negative\\\\neg_2.txt',\n",
       " b'Reviews\\\\negative\\\\neg_3.txt',\n",
       " b'Reviews\\\\positive\\\\pos_1.txt',\n",
       " b'Reviews\\\\positive\\\\pos_2.txt',\n",
       " b'Reviews\\\\positive\\\\pos_3.txt']"
      ]
     },
     "execution_count": 45,
     "metadata": {},
     "output_type": "execute_result"
    }
   ],
   "source": [
    "list(txt_ds.as_numpy_iterator())"
   ]
  },
  {
   "cell_type": "code",
   "execution_count": 46,
   "id": "fc460ee5",
   "metadata": {},
   "outputs": [],
   "source": [
    "def get_review_type(file_path):\n",
    "    import os\n",
    "    p = tf.strings.split(file_path, os.path.sep)\n",
    "    return p[1]"
   ]
  },
  {
   "cell_type": "code",
   "execution_count": 47,
   "id": "88837271",
   "metadata": {},
   "outputs": [
    {
     "data": {
      "text/plain": [
       "<tf.Tensor: shape=(), dtype=string, numpy=b'negative'>"
      ]
     },
     "execution_count": 47,
     "metadata": {},
     "output_type": "execute_result"
    }
   ],
   "source": [
    "get_review_type('Reviews\\\\negative\\\\neg_1.txt')"
   ]
  },
  {
   "cell_type": "code",
   "execution_count": 89,
   "id": "4033787e",
   "metadata": {},
   "outputs": [],
   "source": [
    "def read_file(file_path):\n",
    "    txt = tf.io.read_file(file_path)\n",
    "    label = get_review_type(file_path)\n",
    "    return txt, label"
   ]
  },
  {
   "cell_type": "code",
   "execution_count": 90,
   "id": "50f0db77",
   "metadata": {},
   "outputs": [
    {
     "data": {
      "text/plain": [
       "(<tf.Tensor: shape=(), dtype=string, numpy=b'Bad'>,\n",
       " <tf.Tensor: shape=(), dtype=string, numpy=b'negative'>)"
      ]
     },
     "execution_count": 90,
     "metadata": {},
     "output_type": "execute_result"
    }
   ],
   "source": [
    "read_file('Reviews\\\\negative\\\\neg_1.txt')"
   ]
  },
  {
   "cell_type": "code",
   "execution_count": 108,
   "id": "cef82f6d",
   "metadata": {},
   "outputs": [],
   "source": [
    "def filter_func(file_path):\n",
    "    txt, label = read_file(file_path)\n",
    "    if len(txt) == 0:\n",
    "        return False\n",
    "    return True"
   ]
  },
  {
   "cell_type": "code",
   "execution_count": 109,
   "id": "d6d8dab2",
   "metadata": {},
   "outputs": [],
   "source": [
    "final_txt_ds = txt_ds.map(lambda x: read_file(x))\n",
    "#for t, l in final_txt_ds:\n",
    "#    print(t.numpy())\n",
    "#    print(l)"
   ]
  },
  {
   "cell_type": "code",
   "execution_count": null,
   "id": "23525ce3",
   "metadata": {},
   "outputs": [],
   "source": [
    "final_txt_ds2 = final_txt_ds.filter(lambda r, l: filter_func(r))"
   ]
  }
 ],
 "metadata": {
  "kernelspec": {
   "display_name": "Python 3",
   "language": "python",
   "name": "python3"
  },
  "language_info": {
   "codemirror_mode": {
    "name": "ipython",
    "version": 3
   },
   "file_extension": ".py",
   "mimetype": "text/x-python",
   "name": "python",
   "nbconvert_exporter": "python",
   "pygments_lexer": "ipython3",
   "version": "3.6.13"
  }
 },
 "nbformat": 4,
 "nbformat_minor": 5
}
